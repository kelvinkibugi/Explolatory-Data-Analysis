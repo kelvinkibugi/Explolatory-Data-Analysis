{
 "cells": [
  {
   "cell_type": "markdown",
   "id": "1bb02a85-a10f-4b57-a2a7-0fdafe0eedda",
   "metadata": {},
   "source": [
    "BDATC01/0781/2022 \n",
    "KIBUGI KELVIN MAINA"
   ]
  },
  {
   "cell_type": "code",
   "execution_count": 31,
   "id": "5117fcf2-d25f-4283-a1ff-95f5faa1bc1e",
   "metadata": {},
   "outputs": [],
   "source": [
    "#### ASSINGMENT PRACTICAL\n",
    "## DATA FROM KAGGLE\n",
    "## Apartment prices in Kenya"
   ]
  },
  {
   "cell_type": "code",
   "execution_count": 57,
   "id": "f76098d3-b7d4-4917-a389-c003d8eaa1ee",
   "metadata": {},
   "outputs": [],
   "source": [
    "import pandas as pd\n",
    "import matplotlib.pyplot as plt\n",
    "import seaborn as sns\n",
    "import numpy as np"
   ]
  },
  {
   "cell_type": "code",
   "execution_count": 58,
   "id": "5e01b955-565f-4040-a403-1c32e37710df",
   "metadata": {},
   "outputs": [],
   "source": [
    "data = pd.read_csv(r\"C:\\Users\\HP\\Desktop\\conda data\\apartments.csv\")"
   ]
  },
  {
   "cell_type": "code",
   "execution_count": 59,
   "id": "bc3b45d2-5e55-4f61-9bcc-655e8e2babd7",
   "metadata": {},
   "outputs": [
    {
     "data": {
      "text/html": [
       "<div>\n",
       "<style scoped>\n",
       "    .dataframe tbody tr th:only-of-type {\n",
       "        vertical-align: middle;\n",
       "    }\n",
       "\n",
       "    .dataframe tbody tr th {\n",
       "        vertical-align: top;\n",
       "    }\n",
       "\n",
       "    .dataframe thead th {\n",
       "        text-align: right;\n",
       "    }\n",
       "</style>\n",
       "<table border=\"1\" class=\"dataframe\">\n",
       "  <thead>\n",
       "    <tr style=\"text-align: right;\">\n",
       "      <th></th>\n",
       "      <th>Unnamed: 0</th>\n",
       "      <th>title</th>\n",
       "      <th>location</th>\n",
       "      <th>bedrooms</th>\n",
       "      <th>bathrooms</th>\n",
       "      <th>price</th>\n",
       "      <th>rate</th>\n",
       "    </tr>\n",
       "  </thead>\n",
       "  <tbody>\n",
       "    <tr>\n",
       "      <th>0</th>\n",
       "      <td>0</td>\n",
       "      <td>3 Bedroom Apartment / Flat to rent in Riverside</td>\n",
       "      <td>Riverside Dr Nairobi, Riverside, Nairobi</td>\n",
       "      <td>3</td>\n",
       "      <td>3</td>\n",
       "      <td>200 000</td>\n",
       "      <td>Per Month</td>\n",
       "    </tr>\n",
       "    <tr>\n",
       "      <th>1</th>\n",
       "      <td>1</td>\n",
       "      <td>3 Bedroom Apartment / Flat to rent in Kileleshwa</td>\n",
       "      <td>Kileleshwa, Nairobi</td>\n",
       "      <td>3</td>\n",
       "      <td>4</td>\n",
       "      <td>70 000</td>\n",
       "      <td>Per Month</td>\n",
       "    </tr>\n",
       "    <tr>\n",
       "      <th>2</th>\n",
       "      <td>2</td>\n",
       "      <td>3 Bedroom Apartment / Flat to rent in Nyali</td>\n",
       "      <td>Links Rd Mombasa, Nyali, Mombasa</td>\n",
       "      <td>3</td>\n",
       "      <td>2</td>\n",
       "      <td>38 000</td>\n",
       "      <td>Per Month</td>\n",
       "    </tr>\n",
       "    <tr>\n",
       "      <th>3</th>\n",
       "      <td>3</td>\n",
       "      <td>3 Bedroom Apartment / Flat to rent in Lavington</td>\n",
       "      <td>Near Valley Arcade, Lavington, Nairobi</td>\n",
       "      <td>3</td>\n",
       "      <td>3</td>\n",
       "      <td>80 000</td>\n",
       "      <td>Per Month</td>\n",
       "    </tr>\n",
       "    <tr>\n",
       "      <th>4</th>\n",
       "      <td>4</td>\n",
       "      <td>1 Bedroom Apartment / Flat to rent in Kileleshwa</td>\n",
       "      <td>Kileleshwa, Nairobi</td>\n",
       "      <td>1</td>\n",
       "      <td>1</td>\n",
       "      <td>110 000</td>\n",
       "      <td>Per Month</td>\n",
       "    </tr>\n",
       "  </tbody>\n",
       "</table>\n",
       "</div>"
      ],
      "text/plain": [
       "   Unnamed: 0                                             title  \\\n",
       "0           0   3 Bedroom Apartment / Flat to rent in Riverside   \n",
       "1           1  3 Bedroom Apartment / Flat to rent in Kileleshwa   \n",
       "2           2       3 Bedroom Apartment / Flat to rent in Nyali   \n",
       "3           3   3 Bedroom Apartment / Flat to rent in Lavington   \n",
       "4           4  1 Bedroom Apartment / Flat to rent in Kileleshwa   \n",
       "\n",
       "                                   location  bedrooms  bathrooms     price  \\\n",
       "0  Riverside Dr Nairobi, Riverside, Nairobi         3          3   200 000   \n",
       "1                       Kileleshwa, Nairobi         3          4    70 000   \n",
       "2          Links Rd Mombasa, Nyali, Mombasa         3          2    38 000   \n",
       "3    Near Valley Arcade, Lavington, Nairobi         3          3    80 000   \n",
       "4                       Kileleshwa, Nairobi         1          1   110 000   \n",
       "\n",
       "        rate  \n",
       "0  Per Month  \n",
       "1  Per Month  \n",
       "2  Per Month  \n",
       "3  Per Month  \n",
       "4  Per Month  "
      ]
     },
     "execution_count": 59,
     "metadata": {},
     "output_type": "execute_result"
    }
   ],
   "source": [
    "data.head(5)"
   ]
  },
  {
   "cell_type": "code",
   "execution_count": 60,
   "id": "45233afe-505e-47bc-97c0-1424f93e3404",
   "metadata": {},
   "outputs": [
    {
     "data": {
      "text/plain": [
       "Unnamed: 0      0\n",
       "title           0\n",
       "location      376\n",
       "bedrooms        0\n",
       "bathrooms       0\n",
       "price           0\n",
       "rate            0\n",
       "dtype: int64"
      ]
     },
     "execution_count": 60,
     "metadata": {},
     "output_type": "execute_result"
    }
   ],
   "source": [
    "## Checkingfo missing values.\n",
    "data.isnull().sum()"
   ]
  },
  {
   "cell_type": "code",
   "execution_count": 61,
   "id": "c8ed6f25-4193-47d8-a432-c7e1a5047713",
   "metadata": {},
   "outputs": [],
   "source": [
    "## dropping the missing values.\n",
    "data.dropna(inplace = True)"
   ]
  },
  {
   "cell_type": "code",
   "execution_count": 62,
   "id": "6c770613-cd4c-4e79-82cc-6021e8a2b837",
   "metadata": {},
   "outputs": [
    {
     "data": {
      "text/plain": [
       "Unnamed: 0    0\n",
       "title         0\n",
       "location      0\n",
       "bedrooms      0\n",
       "bathrooms     0\n",
       "price         0\n",
       "rate          0\n",
       "dtype: int64"
      ]
     },
     "execution_count": 62,
     "metadata": {},
     "output_type": "execute_result"
    }
   ],
   "source": [
    "#mising values already dropped\n",
    "data.isnull().sum()"
   ]
  },
  {
   "cell_type": "code",
   "execution_count": 63,
   "id": "476a662a-1ef3-466d-ac26-81578a8186dc",
   "metadata": {},
   "outputs": [
    {
     "data": {
      "text/html": [
       "<div>\n",
       "<style scoped>\n",
       "    .dataframe tbody tr th:only-of-type {\n",
       "        vertical-align: middle;\n",
       "    }\n",
       "\n",
       "    .dataframe tbody tr th {\n",
       "        vertical-align: top;\n",
       "    }\n",
       "\n",
       "    .dataframe thead th {\n",
       "        text-align: right;\n",
       "    }\n",
       "</style>\n",
       "<table border=\"1\" class=\"dataframe\">\n",
       "  <thead>\n",
       "    <tr style=\"text-align: right;\">\n",
       "      <th></th>\n",
       "      <th>Unnamed: 0</th>\n",
       "      <th>title</th>\n",
       "      <th>location</th>\n",
       "      <th>bedrooms</th>\n",
       "      <th>bathrooms</th>\n",
       "      <th>price</th>\n",
       "      <th>rate</th>\n",
       "    </tr>\n",
       "  </thead>\n",
       "  <tbody>\n",
       "    <tr>\n",
       "      <th>0</th>\n",
       "      <td>0</td>\n",
       "      <td>3 Bedroom Apartment / Flat to rent in Riverside</td>\n",
       "      <td>Riverside Dr Nairobi, Riverside, Nairobi</td>\n",
       "      <td>3</td>\n",
       "      <td>3</td>\n",
       "      <td>200 000</td>\n",
       "      <td>Per Month</td>\n",
       "    </tr>\n",
       "    <tr>\n",
       "      <th>1</th>\n",
       "      <td>1</td>\n",
       "      <td>3 Bedroom Apartment / Flat to rent in Kileleshwa</td>\n",
       "      <td>Kileleshwa, Nairobi</td>\n",
       "      <td>3</td>\n",
       "      <td>4</td>\n",
       "      <td>70 000</td>\n",
       "      <td>Per Month</td>\n",
       "    </tr>\n",
       "    <tr>\n",
       "      <th>2</th>\n",
       "      <td>2</td>\n",
       "      <td>3 Bedroom Apartment / Flat to rent in Nyali</td>\n",
       "      <td>Links Rd Mombasa, Nyali, Mombasa</td>\n",
       "      <td>3</td>\n",
       "      <td>2</td>\n",
       "      <td>38 000</td>\n",
       "      <td>Per Month</td>\n",
       "    </tr>\n",
       "    <tr>\n",
       "      <th>3</th>\n",
       "      <td>3</td>\n",
       "      <td>3 Bedroom Apartment / Flat to rent in Lavington</td>\n",
       "      <td>Near Valley Arcade, Lavington, Nairobi</td>\n",
       "      <td>3</td>\n",
       "      <td>3</td>\n",
       "      <td>80 000</td>\n",
       "      <td>Per Month</td>\n",
       "    </tr>\n",
       "    <tr>\n",
       "      <th>4</th>\n",
       "      <td>4</td>\n",
       "      <td>1 Bedroom Apartment / Flat to rent in Kileleshwa</td>\n",
       "      <td>Kileleshwa, Nairobi</td>\n",
       "      <td>1</td>\n",
       "      <td>1</td>\n",
       "      <td>110 000</td>\n",
       "      <td>Per Month</td>\n",
       "    </tr>\n",
       "  </tbody>\n",
       "</table>\n",
       "</div>"
      ],
      "text/plain": [
       "   Unnamed: 0                                             title  \\\n",
       "0           0   3 Bedroom Apartment / Flat to rent in Riverside   \n",
       "1           1  3 Bedroom Apartment / Flat to rent in Kileleshwa   \n",
       "2           2       3 Bedroom Apartment / Flat to rent in Nyali   \n",
       "3           3   3 Bedroom Apartment / Flat to rent in Lavington   \n",
       "4           4  1 Bedroom Apartment / Flat to rent in Kileleshwa   \n",
       "\n",
       "                                   location  bedrooms  bathrooms     price  \\\n",
       "0  Riverside Dr Nairobi, Riverside, Nairobi         3          3   200 000   \n",
       "1                       Kileleshwa, Nairobi         3          4    70 000   \n",
       "2          Links Rd Mombasa, Nyali, Mombasa         3          2    38 000   \n",
       "3    Near Valley Arcade, Lavington, Nairobi         3          3    80 000   \n",
       "4                       Kileleshwa, Nairobi         1          1   110 000   \n",
       "\n",
       "        rate  \n",
       "0  Per Month  \n",
       "1  Per Month  \n",
       "2  Per Month  \n",
       "3  Per Month  \n",
       "4  Per Month  "
      ]
     },
     "execution_count": 63,
     "metadata": {},
     "output_type": "execute_result"
    }
   ],
   "source": [
    "## printing the first 5 values\n",
    "data.head(5)\n"
   ]
  },
  {
   "cell_type": "code",
   "execution_count": 64,
   "id": "f8f5ade9-4276-4112-9be2-7977f09ea792",
   "metadata": {},
   "outputs": [
    {
     "data": {
      "text/plain": [
       "0       False\n",
       "1       False\n",
       "2       False\n",
       "3       False\n",
       "4       False\n",
       "        ...  \n",
       "2514    False\n",
       "2515    False\n",
       "2517    False\n",
       "2518    False\n",
       "2519    False\n",
       "Length: 2144, dtype: bool"
      ]
     },
     "execution_count": 64,
     "metadata": {},
     "output_type": "execute_result"
    }
   ],
   "source": [
    "data.duplicated()"
   ]
  },
  {
   "cell_type": "code",
   "execution_count": 65,
   "id": "91473ffd-d151-45f2-b60d-9fa82ca525a3",
   "metadata": {},
   "outputs": [
    {
     "data": {
      "text/plain": [
       "0"
      ]
     },
     "execution_count": 65,
     "metadata": {},
     "output_type": "execute_result"
    }
   ],
   "source": [
    "data.duplicated().sum()"
   ]
  },
  {
   "cell_type": "code",
   "execution_count": 66,
   "id": "097ea4a7-f8df-497b-97cc-cd9f77924ab2",
   "metadata": {},
   "outputs": [
    {
     "data": {
      "text/plain": [
       "Unnamed: 0     int64\n",
       "title         object\n",
       "location      object\n",
       "bedrooms       int64\n",
       "bathrooms      int64\n",
       "price         object\n",
       "rate          object\n",
       "dtype: object"
      ]
     },
     "execution_count": 66,
     "metadata": {},
     "output_type": "execute_result"
    }
   ],
   "source": [
    "## Convert relevant columns to appropriate data types (e.g., date, numeric).\n",
    "\n",
    "data.dtypes"
   ]
  },
  {
   "cell_type": "code",
   "execution_count": 67,
   "id": "8be8ec38-672b-4361-a4dd-71ac9d86e5e2",
   "metadata": {},
   "outputs": [],
   "source": [
    "## coverting price from object to numeric\n",
    "data['price'] = data['price'].str.replace(' ', '').astype(int)"
   ]
  },
  {
   "cell_type": "code",
   "execution_count": 68,
   "id": "38cf0d86-c8b0-4a92-98af-0d1ce3d3d1f5",
   "metadata": {},
   "outputs": [
    {
     "data": {
      "text/plain": [
       "200171750"
      ]
     },
     "execution_count": 68,
     "metadata": {},
     "output_type": "execute_result"
    }
   ],
   "source": [
    "#To confirm if the data changed to int by carrying out the sum\n",
    "data[\"price\"].sum()"
   ]
  },
  {
   "cell_type": "code",
   "execution_count": 69,
   "id": "de32107d-2d26-4972-a9f3-8fa78c17f068",
   "metadata": {},
   "outputs": [
    {
     "data": {
      "text/html": [
       "<div>\n",
       "<style scoped>\n",
       "    .dataframe tbody tr th:only-of-type {\n",
       "        vertical-align: middle;\n",
       "    }\n",
       "\n",
       "    .dataframe tbody tr th {\n",
       "        vertical-align: top;\n",
       "    }\n",
       "\n",
       "    .dataframe thead th {\n",
       "        text-align: right;\n",
       "    }\n",
       "</style>\n",
       "<table border=\"1\" class=\"dataframe\">\n",
       "  <thead>\n",
       "    <tr style=\"text-align: right;\">\n",
       "      <th></th>\n",
       "      <th>Unnamed: 0</th>\n",
       "      <th>title</th>\n",
       "      <th>location</th>\n",
       "      <th>bedrooms</th>\n",
       "      <th>bathrooms</th>\n",
       "      <th>price</th>\n",
       "      <th>rate</th>\n",
       "    </tr>\n",
       "  </thead>\n",
       "  <tbody>\n",
       "    <tr>\n",
       "      <th>0</th>\n",
       "      <td>0</td>\n",
       "      <td>3 Bedroom Apartment / Flat to rent in Riverside</td>\n",
       "      <td>Riverside Dr Nairobi, Riverside, Nairobi</td>\n",
       "      <td>3</td>\n",
       "      <td>3</td>\n",
       "      <td>200000</td>\n",
       "      <td>Per Month</td>\n",
       "    </tr>\n",
       "    <tr>\n",
       "      <th>1</th>\n",
       "      <td>1</td>\n",
       "      <td>3 Bedroom Apartment / Flat to rent in Kileleshwa</td>\n",
       "      <td>Kileleshwa, Nairobi</td>\n",
       "      <td>3</td>\n",
       "      <td>4</td>\n",
       "      <td>70000</td>\n",
       "      <td>Per Month</td>\n",
       "    </tr>\n",
       "    <tr>\n",
       "      <th>2</th>\n",
       "      <td>2</td>\n",
       "      <td>3 Bedroom Apartment / Flat to rent in Nyali</td>\n",
       "      <td>Links Rd Mombasa, Nyali, Mombasa</td>\n",
       "      <td>3</td>\n",
       "      <td>2</td>\n",
       "      <td>38000</td>\n",
       "      <td>Per Month</td>\n",
       "    </tr>\n",
       "    <tr>\n",
       "      <th>3</th>\n",
       "      <td>3</td>\n",
       "      <td>3 Bedroom Apartment / Flat to rent in Lavington</td>\n",
       "      <td>Near Valley Arcade, Lavington, Nairobi</td>\n",
       "      <td>3</td>\n",
       "      <td>3</td>\n",
       "      <td>80000</td>\n",
       "      <td>Per Month</td>\n",
       "    </tr>\n",
       "    <tr>\n",
       "      <th>4</th>\n",
       "      <td>4</td>\n",
       "      <td>1 Bedroom Apartment / Flat to rent in Kileleshwa</td>\n",
       "      <td>Kileleshwa, Nairobi</td>\n",
       "      <td>1</td>\n",
       "      <td>1</td>\n",
       "      <td>110000</td>\n",
       "      <td>Per Month</td>\n",
       "    </tr>\n",
       "  </tbody>\n",
       "</table>\n",
       "</div>"
      ],
      "text/plain": [
       "   Unnamed: 0                                             title  \\\n",
       "0           0   3 Bedroom Apartment / Flat to rent in Riverside   \n",
       "1           1  3 Bedroom Apartment / Flat to rent in Kileleshwa   \n",
       "2           2       3 Bedroom Apartment / Flat to rent in Nyali   \n",
       "3           3   3 Bedroom Apartment / Flat to rent in Lavington   \n",
       "4           4  1 Bedroom Apartment / Flat to rent in Kileleshwa   \n",
       "\n",
       "                                   location  bedrooms  bathrooms   price  \\\n",
       "0  Riverside Dr Nairobi, Riverside, Nairobi         3          3  200000   \n",
       "1                       Kileleshwa, Nairobi         3          4   70000   \n",
       "2          Links Rd Mombasa, Nyali, Mombasa         3          2   38000   \n",
       "3    Near Valley Arcade, Lavington, Nairobi         3          3   80000   \n",
       "4                       Kileleshwa, Nairobi         1          1  110000   \n",
       "\n",
       "        rate  \n",
       "0  Per Month  \n",
       "1  Per Month  \n",
       "2  Per Month  \n",
       "3  Per Month  \n",
       "4  Per Month  "
      ]
     },
     "execution_count": 69,
     "metadata": {},
     "output_type": "execute_result"
    }
   ],
   "source": [
    "## First five rows of the cleaned data\n",
    "data.head()"
   ]
  },
  {
   "cell_type": "markdown",
   "id": "3bc6c067-9b0f-4bcd-9340-ab1c3a1c35b7",
   "metadata": {},
   "source": [
    "Techsalerator's Job Openings Data for Kenya provides a detailed and valuable overview of job opportunities across various sectors in Kenya. This dataset consolidates and categorizes job-related information from multiple sources, including company websites, job boards, and recruitment agencies, offering key insights into the Kenyan labor market."
   ]
  },
  {
   "cell_type": "code",
   "execution_count": 70,
   "id": "0193ec27-85f8-4c58-be82-2e8a2c5687d5",
   "metadata": {},
   "outputs": [],
   "source": [
    "#### Part 2 data analysis part\n",
    "\n"
   ]
  },
  {
   "cell_type": "code",
   "execution_count": 71,
   "id": "c3b5094f-dc37-4629-bda4-a482b40d01f8",
   "metadata": {},
   "outputs": [
    {
     "data": {
      "text/html": [
       "<div>\n",
       "<style scoped>\n",
       "    .dataframe tbody tr th:only-of-type {\n",
       "        vertical-align: middle;\n",
       "    }\n",
       "\n",
       "    .dataframe tbody tr th {\n",
       "        vertical-align: top;\n",
       "    }\n",
       "\n",
       "    .dataframe thead th {\n",
       "        text-align: right;\n",
       "    }\n",
       "</style>\n",
       "<table border=\"1\" class=\"dataframe\">\n",
       "  <thead>\n",
       "    <tr style=\"text-align: right;\">\n",
       "      <th></th>\n",
       "      <th>Unnamed: 0</th>\n",
       "      <th>title</th>\n",
       "      <th>location</th>\n",
       "      <th>bedrooms</th>\n",
       "      <th>bathrooms</th>\n",
       "      <th>price</th>\n",
       "      <th>rate</th>\n",
       "    </tr>\n",
       "  </thead>\n",
       "  <tbody>\n",
       "    <tr>\n",
       "      <th>2514</th>\n",
       "      <td>2514</td>\n",
       "      <td>2 Bedroom Apartment / Flat to rent in Kileleshwa</td>\n",
       "      <td>Kileleshwa Nairobi, Kileleshwa, Nairobi</td>\n",
       "      <td>2</td>\n",
       "      <td>2</td>\n",
       "      <td>55000</td>\n",
       "      <td>Per Month</td>\n",
       "    </tr>\n",
       "    <tr>\n",
       "      <th>2515</th>\n",
       "      <td>2515</td>\n",
       "      <td>3 Bedroom Apartment / Flat to rent in Kilimani</td>\n",
       "      <td>Kilimani, Nairobi</td>\n",
       "      <td>3</td>\n",
       "      <td>3</td>\n",
       "      <td>75000</td>\n",
       "      <td>Per Month</td>\n",
       "    </tr>\n",
       "    <tr>\n",
       "      <th>2517</th>\n",
       "      <td>2517</td>\n",
       "      <td>2 Bedroom Apartment / Flat to rent in Spring V...</td>\n",
       "      <td>Grevillea Grove Spring Valley, Spring Valley, ...</td>\n",
       "      <td>2</td>\n",
       "      <td>3</td>\n",
       "      <td>65000</td>\n",
       "      <td>Per Month</td>\n",
       "    </tr>\n",
       "    <tr>\n",
       "      <th>2518</th>\n",
       "      <td>2518</td>\n",
       "      <td>4 Bedroom Apartment / Flat to rent in Muthaiga</td>\n",
       "      <td>Muthaiga, Nairobi</td>\n",
       "      <td>4</td>\n",
       "      <td>5</td>\n",
       "      <td>300000</td>\n",
       "      <td>Per Month</td>\n",
       "    </tr>\n",
       "    <tr>\n",
       "      <th>2519</th>\n",
       "      <td>2519</td>\n",
       "      <td>2 Bedroom Apartment / Flat to rent in Westlands</td>\n",
       "      <td>Westlands, Nairobi</td>\n",
       "      <td>2</td>\n",
       "      <td>2</td>\n",
       "      <td>100000</td>\n",
       "      <td>Per Month</td>\n",
       "    </tr>\n",
       "  </tbody>\n",
       "</table>\n",
       "</div>"
      ],
      "text/plain": [
       "      Unnamed: 0                                              title  \\\n",
       "2514        2514   2 Bedroom Apartment / Flat to rent in Kileleshwa   \n",
       "2515        2515     3 Bedroom Apartment / Flat to rent in Kilimani   \n",
       "2517        2517  2 Bedroom Apartment / Flat to rent in Spring V...   \n",
       "2518        2518     4 Bedroom Apartment / Flat to rent in Muthaiga   \n",
       "2519        2519    2 Bedroom Apartment / Flat to rent in Westlands   \n",
       "\n",
       "                                               location  bedrooms  bathrooms  \\\n",
       "2514            Kileleshwa Nairobi, Kileleshwa, Nairobi         2          2   \n",
       "2515                                  Kilimani, Nairobi         3          3   \n",
       "2517  Grevillea Grove Spring Valley, Spring Valley, ...         2          3   \n",
       "2518                                  Muthaiga, Nairobi         4          5   \n",
       "2519                                 Westlands, Nairobi         2          2   \n",
       "\n",
       "       price       rate  \n",
       "2514   55000  Per Month  \n",
       "2515   75000  Per Month  \n",
       "2517   65000  Per Month  \n",
       "2518  300000  Per Month  \n",
       "2519  100000  Per Month  "
      ]
     },
     "execution_count": 71,
     "metadata": {},
     "output_type": "execute_result"
    }
   ],
   "source": [
    "data.tail(5)"
   ]
  },
  {
   "cell_type": "code",
   "execution_count": 72,
   "id": "c344796c-c6d4-4957-80c2-aacbafed6603",
   "metadata": {},
   "outputs": [
    {
     "data": {
      "text/plain": [
       "Unnamed: 0     int64\n",
       "title         object\n",
       "location      object\n",
       "bedrooms       int64\n",
       "bathrooms      int64\n",
       "price          int32\n",
       "rate          object\n",
       "dtype: object"
      ]
     },
     "execution_count": 72,
     "metadata": {},
     "output_type": "execute_result"
    }
   ],
   "source": [
    "data.dtypes"
   ]
  },
  {
   "cell_type": "code",
   "execution_count": 73,
   "id": "04139ce4-a73b-4dee-8464-2c6dc0587dad",
   "metadata": {},
   "outputs": [
    {
     "data": {
      "text/plain": [
       "count      2144.000000\n",
       "mean      93363.689366\n",
       "std       68227.778336\n",
       "min        5000.000000\n",
       "25%       55000.000000\n",
       "50%       70000.000000\n",
       "75%      100000.000000\n",
       "max      300000.000000\n",
       "Name: price, dtype: float64"
      ]
     },
     "execution_count": 73,
     "metadata": {},
     "output_type": "execute_result"
    }
   ],
   "source": [
    "data[\"price\"].describe()"
   ]
  },
  {
   "cell_type": "code",
   "execution_count": 74,
   "id": "d9dfcca4-123e-4110-8acd-2745f355d1bd",
   "metadata": {},
   "outputs": [
    {
     "data": {
      "text/plain": [
       "count    2144.000000\n",
       "mean        2.529851\n",
       "std         0.979512\n",
       "min         1.000000\n",
       "25%         2.000000\n",
       "50%         3.000000\n",
       "75%         3.000000\n",
       "max         4.000000\n",
       "Name: bedrooms, dtype: float64"
      ]
     },
     "execution_count": 74,
     "metadata": {},
     "output_type": "execute_result"
    }
   ],
   "source": [
    "data[\"bedrooms\"].describe()"
   ]
  },
  {
   "cell_type": "code",
   "execution_count": 75,
   "id": "b3d22b91-88cc-4328-b2c1-8f2973c88405",
   "metadata": {},
   "outputs": [
    {
     "data": {
      "text/plain": [
       "count    2144.000000\n",
       "mean        2.470616\n",
       "std         1.038716\n",
       "min         1.000000\n",
       "25%         2.000000\n",
       "50%         2.000000\n",
       "75%         3.000000\n",
       "max         5.000000\n",
       "Name: bathrooms, dtype: float64"
      ]
     },
     "execution_count": 75,
     "metadata": {},
     "output_type": "execute_result"
    }
   ],
   "source": [
    "data[\"bathrooms\"].describe()"
   ]
  },
  {
   "cell_type": "code",
   "execution_count": 76,
   "id": "751c6195-9608-40db-aa4a-95ab355f26ed",
   "metadata": {},
   "outputs": [],
   "source": [
    "## correlatins between different numerical variables\n",
    "data['title'] = data['title'].str.extract(r'(\\d+)').astype(int)\n"
   ]
  },
  {
   "cell_type": "code",
   "execution_count": 77,
   "id": "3161904d-c667-4e41-8b9a-1d9a8a856647",
   "metadata": {},
   "outputs": [
    {
     "data": {
      "text/html": [
       "<div>\n",
       "<style scoped>\n",
       "    .dataframe tbody tr th:only-of-type {\n",
       "        vertical-align: middle;\n",
       "    }\n",
       "\n",
       "    .dataframe tbody tr th {\n",
       "        vertical-align: top;\n",
       "    }\n",
       "\n",
       "    .dataframe thead th {\n",
       "        text-align: right;\n",
       "    }\n",
       "</style>\n",
       "<table border=\"1\" class=\"dataframe\">\n",
       "  <thead>\n",
       "    <tr style=\"text-align: right;\">\n",
       "      <th></th>\n",
       "      <th>Unnamed: 0</th>\n",
       "      <th>title</th>\n",
       "      <th>location</th>\n",
       "      <th>bedrooms</th>\n",
       "      <th>bathrooms</th>\n",
       "      <th>price</th>\n",
       "      <th>rate</th>\n",
       "    </tr>\n",
       "  </thead>\n",
       "  <tbody>\n",
       "    <tr>\n",
       "      <th>0</th>\n",
       "      <td>0</td>\n",
       "      <td>3</td>\n",
       "      <td>Riverside Dr Nairobi, Riverside, Nairobi</td>\n",
       "      <td>3</td>\n",
       "      <td>3</td>\n",
       "      <td>200000</td>\n",
       "      <td>Per Month</td>\n",
       "    </tr>\n",
       "    <tr>\n",
       "      <th>1</th>\n",
       "      <td>1</td>\n",
       "      <td>3</td>\n",
       "      <td>Kileleshwa, Nairobi</td>\n",
       "      <td>3</td>\n",
       "      <td>4</td>\n",
       "      <td>70000</td>\n",
       "      <td>Per Month</td>\n",
       "    </tr>\n",
       "    <tr>\n",
       "      <th>2</th>\n",
       "      <td>2</td>\n",
       "      <td>3</td>\n",
       "      <td>Links Rd Mombasa, Nyali, Mombasa</td>\n",
       "      <td>3</td>\n",
       "      <td>2</td>\n",
       "      <td>38000</td>\n",
       "      <td>Per Month</td>\n",
       "    </tr>\n",
       "    <tr>\n",
       "      <th>3</th>\n",
       "      <td>3</td>\n",
       "      <td>3</td>\n",
       "      <td>Near Valley Arcade, Lavington, Nairobi</td>\n",
       "      <td>3</td>\n",
       "      <td>3</td>\n",
       "      <td>80000</td>\n",
       "      <td>Per Month</td>\n",
       "    </tr>\n",
       "    <tr>\n",
       "      <th>4</th>\n",
       "      <td>4</td>\n",
       "      <td>1</td>\n",
       "      <td>Kileleshwa, Nairobi</td>\n",
       "      <td>1</td>\n",
       "      <td>1</td>\n",
       "      <td>110000</td>\n",
       "      <td>Per Month</td>\n",
       "    </tr>\n",
       "  </tbody>\n",
       "</table>\n",
       "</div>"
      ],
      "text/plain": [
       "   Unnamed: 0  title                                  location  bedrooms  \\\n",
       "0           0      3  Riverside Dr Nairobi, Riverside, Nairobi         3   \n",
       "1           1      3                       Kileleshwa, Nairobi         3   \n",
       "2           2      3          Links Rd Mombasa, Nyali, Mombasa         3   \n",
       "3           3      3    Near Valley Arcade, Lavington, Nairobi         3   \n",
       "4           4      1                       Kileleshwa, Nairobi         1   \n",
       "\n",
       "   bathrooms   price       rate  \n",
       "0          3  200000  Per Month  \n",
       "1          4   70000  Per Month  \n",
       "2          2   38000  Per Month  \n",
       "3          3   80000  Per Month  \n",
       "4          1  110000  Per Month  "
      ]
     },
     "execution_count": 77,
     "metadata": {},
     "output_type": "execute_result"
    }
   ],
   "source": [
    "data.head()"
   ]
  },
  {
   "cell_type": "code",
   "execution_count": 78,
   "id": "b5211ffc-2098-4c95-8524-2217661b39ec",
   "metadata": {},
   "outputs": [
    {
     "data": {
      "text/html": [
       "<div>\n",
       "<style scoped>\n",
       "    .dataframe tbody tr th:only-of-type {\n",
       "        vertical-align: middle;\n",
       "    }\n",
       "\n",
       "    .dataframe tbody tr th {\n",
       "        vertical-align: top;\n",
       "    }\n",
       "\n",
       "    .dataframe thead th {\n",
       "        text-align: right;\n",
       "    }\n",
       "</style>\n",
       "<table border=\"1\" class=\"dataframe\">\n",
       "  <thead>\n",
       "    <tr style=\"text-align: right;\">\n",
       "      <th></th>\n",
       "      <th>title</th>\n",
       "      <th>bedrooms</th>\n",
       "      <th>bathrooms</th>\n",
       "      <th>price</th>\n",
       "    </tr>\n",
       "  </thead>\n",
       "  <tbody>\n",
       "    <tr>\n",
       "      <th>title</th>\n",
       "      <td>1.00000</td>\n",
       "      <td>1.00000</td>\n",
       "      <td>0.625300</td>\n",
       "      <td>0.502870</td>\n",
       "    </tr>\n",
       "    <tr>\n",
       "      <th>bedrooms</th>\n",
       "      <td>1.00000</td>\n",
       "      <td>1.00000</td>\n",
       "      <td>0.625300</td>\n",
       "      <td>0.502870</td>\n",
       "    </tr>\n",
       "    <tr>\n",
       "      <th>bathrooms</th>\n",
       "      <td>0.62530</td>\n",
       "      <td>0.62530</td>\n",
       "      <td>1.000000</td>\n",
       "      <td>0.561628</td>\n",
       "    </tr>\n",
       "    <tr>\n",
       "      <th>price</th>\n",
       "      <td>0.50287</td>\n",
       "      <td>0.50287</td>\n",
       "      <td>0.561628</td>\n",
       "      <td>1.000000</td>\n",
       "    </tr>\n",
       "  </tbody>\n",
       "</table>\n",
       "</div>"
      ],
      "text/plain": [
       "             title  bedrooms  bathrooms     price\n",
       "title      1.00000   1.00000   0.625300  0.502870\n",
       "bedrooms   1.00000   1.00000   0.625300  0.502870\n",
       "bathrooms  0.62530   0.62530   1.000000  0.561628\n",
       "price      0.50287   0.50287   0.561628  1.000000"
      ]
     },
     "execution_count": 78,
     "metadata": {},
     "output_type": "execute_result"
    }
   ],
   "source": [
    "correlation_matrix = data[[\"title\",\"bedrooms\",\"bathrooms\",\"price\"]].corr()\n",
    "correlation_matrix"
   ]
  },
  {
   "cell_type": "code",
   "execution_count": 79,
   "id": "d6295e09-0afd-4f87-a584-39185b1e9f67",
   "metadata": {},
   "outputs": [
    {
     "data": {
      "text/plain": [
       "110405.7151589242"
      ]
     },
     "execution_count": 79,
     "metadata": {},
     "output_type": "execute_result"
    }
   ],
   "source": [
    "#Grouping the by location Nairobi and calculating the average amount of money you to get a house in Nairobi\n",
    "data_nairobi = data[data[\"location\"].str.contains(\"Nairobi\", case = False)]\n",
    "average_price_nairobi = data_nairobi['price'].mean()\n",
    "average_price_nairobi\n"
   ]
  },
  {
   "cell_type": "code",
   "execution_count": 80,
   "id": "c2841faf-62c5-457d-9ba7-6dee7248191a",
   "metadata": {},
   "outputs": [
    {
     "name": "stdout",
     "output_type": "stream",
     "text": [
      "Summary Table:\n",
      "                                    Nairobi Locations  \\\n",
      "0            Riverside Dr Nairobi, Riverside, Nairobi   \n",
      "1                                 Kileleshwa, Nairobi   \n",
      "2              Near Valley Arcade, Lavington, Nairobi   \n",
      "3           Thika Rd Nairobi, Kahawa Wendani, Nairobi   \n",
      "4                                   Kilimani, Nairobi   \n",
      "5                                   Muthaiga, Nairobi   \n",
      "6                                  Westlands, Nairobi   \n",
      "7              Westlands downtown, Westlands, Nairobi   \n",
      "8             Kileleshwa Nairobi, Kileleshwa, Nairobi   \n",
      "9   Grevillea Grove Spring Valley, Spring Valley, ...   \n",
      "10                   Vihiga road, Kileleshwa, Nairobi   \n",
      "11                Off Othaya road, Lavington, Nairobi   \n",
      "12                    Jabavu court, Kilimani, Nairobi   \n",
      "\n",
      "                   Mombasa Locations  \n",
      "0   Links Rd Mombasa, Nyali, Mombasa  \n",
      "1                     Nyali, Mombasa  \n",
      "2                    Shanzu, Mombasa  \n",
      "3                                NaN  \n",
      "4                                NaN  \n",
      "5                                NaN  \n",
      "6                                NaN  \n",
      "7                                NaN  \n",
      "8                                NaN  \n",
      "9                                NaN  \n",
      "10                               NaN  \n",
      "11                               NaN  \n",
      "12                               NaN  \n"
     ]
    }
   ],
   "source": [
    "##Making chart showing different house locations eg Nairobi and Momabasa\n",
    "data_nairobi = data[data['location'].str.contains(\"Nairobi\", case=False)]\n",
    "data_mombasa = data[data['location'].str.contains(\"Mombasa\", case=False)]\n",
    "\n",
    "# Get unique locations for Nairobi and Mombasa\n",
    "unique_nairobi_locations = data_nairobi['location'].unique()\n",
    "unique_mombasa_locations = data_mombasa['location'].unique()\n",
    "\n",
    "# Create a summary table\n",
    "summary_table = pd.DataFrame({\n",
    "    \"Nairobi Locations\": pd.Series(unique_nairobi_locations),\n",
    "    \"Mombasa Locations\": pd.Series(unique_mombasa_locations)\n",
    "})\n",
    "\n",
    "print(\"Summary Table:\")\n",
    "print(summary_table)\n"
   ]
  },
  {
   "cell_type": "markdown",
   "id": "99f2bfa1-977a-4e27-a1ed-8831d69b7929",
   "metadata": {},
   "source": [
    "Data Visualisation Part"
   ]
  },
  {
   "cell_type": "code",
   "execution_count": 81,
   "id": "2fb5ec1d-0ede-4e4c-934f-0c8fcabb5dbd",
   "metadata": {},
   "outputs": [
    {
     "data": {
      "image/png": "[encoded data removed]",
      "text/plain": [
       "<Figure size 800x600 with 1 Axes>"
      ]
     },
     "metadata": {},
     "output_type": "display_data"
    }
   ],
   "source": [
    "#Data visualisation part \n",
    "#Bar graph to show the variation of price of houses by the number of bedrooms in the house\n",
    "import pandas as pd\n",
    "import matplotlib.pyplot as plt\n",
    "# Grouping data by number of bedrooms and calculating average price\n",
    "price_per_bedroom = data.groupby(\"bedrooms\")[\"price\"].mean()\n",
    "\n",
    "# Creating the bar chart\n",
    "plt.figure(figsize=(8, 6))\n",
    "price_per_bedroom.plot(kind='bar', color='skyblue', edgecolor='black')\n",
    "plt.title(\"Variation in Price Per Number of Bedrooms\", fontsize=14)\n",
    "plt.xlabel(\"Number of Bedrooms\", fontsize=12)\n",
    "plt.ylabel(\"Average Price (Ksh)\", fontsize=12)\n",
    "plt.xticks(rotation=0)\n",
    "plt.grid(axis='y', linestyle='--', alpha=0.7)\n",
    "plt.tight_layout()\n",
    "plt.show()\n",
    "\n"
   ]
  },
  {
   "cell_type": "markdown",
   "id": "0c947ff9-98b0-4df9-8dcb-66dba88c682f",
   "metadata": {},
   "source": [
    "Line graph"
   ]
  },
  {
   "cell_type": "code",
   "execution_count": 82,
   "id": "d6f42c85-e6e6-4405-a0bc-0faadf58118e",
   "metadata": {},
   "outputs": [
    {
     "data": {
      "image/png": "[encoded data removed]",
      "text/plain": [
       "<Figure size 1000x600 with 1 Axes>"
      ]
     },
     "metadata": {},
     "output_type": "display_data"
    }
   ],
   "source": [
    "#Here is a line graph showing the variation in average property prices by city.\n",
    "#This provides insights into the average rental costs in Nairobi and Mombasa based on the dataset\n",
    "# Adding a 'city' column to categorize by Nairobi and Mombasa\n",
    "data[\"city\"] = data[\"location\"].apply(\n",
    "    lambda x: \"Nairobi\" if \"Nairobi\" in x else \"Mombasa\" if \"Mombasa\" in x else \"Other\"\n",
    ")\n",
    "\n",
    "# Calculating average price by city\n",
    "average_price_by_city = data.groupby(\"city\")[\"price\"].mean()\n",
    "\n",
    "# Creating the line graph\n",
    "plt.figure(figsize=(10, 6))\n",
    "average_price_by_city.plot(kind='line', marker='o', color='purple', linestyle='--')\n",
    "plt.title(\"Average Price Variation by City\", fontsize=14)\n",
    "plt.xlabel(\"City\", fontsize=12)\n",
    "plt.ylabel(\"Average Price (Ksh)\", fontsize=12)\n",
    "plt.grid(axis=\"y\", linestyle=\"--\", alpha=0.7)\n",
    "plt.tight_layout()\n",
    "plt.show()"
   ]
  },
  {
   "cell_type": "code",
   "execution_count": null,
   "id": "5817d467-e53a-4156-be2c-c03c09a2ed30",
   "metadata": {},
   "outputs": [],
   "source": []
  }
 ],
 "metadata": {
  "kernelspec": {
   "display_name": "Python 3 (ipykernel)",
   "language": "python",
   "name": "python3"
  },
  "language_info": {
   "codemirror_mode": {
    "name": "ipython",
    "version": 3
   },
   "file_extension": ".py",
   "mimetype": "text/x-python",
   "name": "python",
   "nbconvert_exporter": "python",
   "pygments_lexer": "ipython3",
   "version": "3.12.4"
  }
 },
 "nbformat": 4,
 "nbformat_minor": 5
}
